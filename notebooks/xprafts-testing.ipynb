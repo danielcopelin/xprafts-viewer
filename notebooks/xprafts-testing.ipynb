{
 "cells": [
  {
   "cell_type": "code",
   "execution_count": 1,
   "metadata": {},
   "outputs": [],
   "source": [
    "import pandas as pd\n",
    "import re\n",
    "\n",
    "import sys\n",
    "sys.path.append(r'..\\xprafts')\n",
    "\n",
    "import xprafts\n",
    "\n",
    "%load_ext autoreload\n",
    "%autoreload 2"
   ]
  },
  {
   "cell_type": "code",
   "execution_count": 2,
   "metadata": {
    "collapsed": true
   },
   "outputs": [],
   "source": [
    "rafts_file = r'..\\example_files\\Pallara_DEV01.loc'\n",
    "events_file = r'..\\example_files\\event_names.txt'"
   ]
  },
  {
   "cell_type": "code",
   "execution_count": 3,
   "metadata": {},
   "outputs": [],
   "source": [
    "rafts_data, event_times, events = xprafts.parse_rafts_file(rafts_file, events_file)"
   ]
  },
  {
   "cell_type": "code",
   "execution_count": 5,
   "metadata": {},
   "outputs": [
    {
     "data": {
      "text/plain": [
       "{0: '0002yr_0060min\\n',\n",
       " 1: '0005yr_0060min\\n',\n",
       " 2: '0010yr_0060min\\n',\n",
       " 3: '0020yr_0060min\\n',\n",
       " 4: '0050yr_0060min\\n',\n",
       " 5: '0100yr_0060min\\n',\n",
       " 6: '0002yr_0090min\\n',\n",
       " 7: '0005yr_0090min\\n',\n",
       " 8: '0010yr_0090min\\n',\n",
       " 9: '0020yr_0090min\\n',\n",
       " 10: '0050yr_0090min\\n',\n",
       " 11: '0100yr_0090min\\n',\n",
       " 12: '0002yr_0120min\\n',\n",
       " 13: '0005yr_0120min\\n',\n",
       " 14: '0010yr_0120min\\n',\n",
       " 15: '0020yr_0120min\\n',\n",
       " 16: '0050yr_0120min\\n',\n",
       " 17: '0100yr_0120min\\n',\n",
       " 18: '0002yr_0180min\\n',\n",
       " 19: '0005yr_0180min\\n',\n",
       " 20: '0010yr_0180min\\n',\n",
       " 21: '0020yr_0180min\\n',\n",
       " 22: '0050yr_0180min\\n',\n",
       " 23: '0100yr_0180min\\n',\n",
       " 24: '0002yr_0270min\\n',\n",
       " 25: '0005yr_0270min\\n',\n",
       " 26: '0010yr_0270min\\n',\n",
       " 27: '0020yr_0270min\\n',\n",
       " 28: '0050yr_0270min\\n',\n",
       " 29: '0100yr_0270min\\n',\n",
       " 30: '0002yr_0360min\\n',\n",
       " 31: '0005yr_0360min\\n',\n",
       " 32: '0010yr_0360min\\n',\n",
       " 33: '0020yr_0360min\\n',\n",
       " 34: '0050yr_0360min\\n',\n",
       " 35: '0100yr_0360min'}"
      ]
     },
     "execution_count": 5,
     "metadata": {},
     "output_type": "execute_result"
    }
   ],
   "source": [
    "events"
   ]
  },
  {
   "cell_type": "code",
   "execution_count": null,
   "metadata": {
    "collapsed": true
   },
   "outputs": [],
   "source": []
  }
 ],
 "metadata": {
  "kernelspec": {
   "display_name": "Python 2",
   "language": "python",
   "name": "python2"
  },
  "language_info": {
   "codemirror_mode": {
    "name": "ipython",
    "version": 2
   },
   "file_extension": ".py",
   "mimetype": "text/x-python",
   "name": "python",
   "nbconvert_exporter": "python",
   "pygments_lexer": "ipython2",
   "version": "2.7.14"
  }
 },
 "nbformat": 4,
 "nbformat_minor": 2
}
